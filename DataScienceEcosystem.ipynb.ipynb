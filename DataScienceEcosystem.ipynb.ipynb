{
 "cells": [
  {
   "cell_type": "markdown",
   "id": "8531cb47-8bc0-47cc-ba66-511a7b0f03fd",
   "metadata": {},
   "source": [
    "# Data Science Tools and Ecosystem"
   ]
  },
  {
   "cell_type": "markdown",
   "id": "7d77f384-a372-4993-ab9e-20fd86dd941e",
   "metadata": {},
   "source": [
    "In this notebook, Data Science Tools and Ecosystem are summarized"
   ]
  },
  {
   "cell_type": "markdown",
   "id": "0f6b7f0e-98ab-454e-a43e-a24fea93e949",
   "metadata": {},
   "source": [
    "Some of the popular languages that Data Scientists use are:\n",
    "- Python\n",
    "- R\n",
    "- SQL\n",
    "\n",
    "Some of the commonly used libraries used by Data Scientists include:\n",
    "- TensorFlow\n",
    "- Pandas\n",
    "- Pytorch\n",
    "- Numpy\n",
    "- Keras\n",
    "- Matplotlib\n",
    "- Seaborn\n",
    "\n",
    "| Data Science Tools |\n",
    "| ------------------ |\n",
    "| Github |\n",
    "| Jupyter Notebooks |\n",
    "| VS Code |\n",
    "\n",
    "### Below are a few examples of evaluating arithmetic expressions in Python\n",
    "\n",
    "$ 4+5 $\n",
    "\n",
    "$ 3-2 $\n",
    "\n",
    "$ 7*8 $\n",
    "\n",
    "$ 56/7 $\n",
    "\n",
    "\n"
   ]
  },
  {
   "cell_type": "code",
   "execution_count": 1,
   "id": "1ab8cd17-af20-4511-811d-80da27055112",
   "metadata": {},
   "outputs": [
    {
     "data": {
      "text/plain": [
       "17"
      ]
     },
     "execution_count": 1,
     "metadata": {},
     "output_type": "execute_result"
    }
   ],
   "source": [
    "# This a simple arithmetic expression to mutiply then add integers\n",
    "(3*4)+5"
   ]
  },
  {
   "cell_type": "code",
   "execution_count": 2,
   "id": "3c93c80d-0b9d-451b-98e3-d7ad4f1f8f4a",
   "metadata": {},
   "outputs": [
    {
     "data": {
      "text/plain": [
       "3.3333333333333335"
      ]
     },
     "execution_count": 2,
     "metadata": {},
     "output_type": "execute_result"
    }
   ],
   "source": [
    "# This will convert 200 minutes to hours by diving by 60\n",
    "200/60\n"
   ]
  },
  {
   "cell_type": "markdown",
   "id": "2c798829-1a27-4ca3-8b62-02b8ed0c1b5a",
   "metadata": {},
   "source": [
    "List popular languages for Data Science\n",
    "\n",
    "**Objectives**\n",
    "\n",
    "- Learn to use some of the most popular DS Tools\n",
    "- Use interactive environments such as Jupyter or RStudio\n",
    "- Use version control Systems such as Git\n",
    "- Learn Programming Languages such as R and Python\n",
    "\n",
    "  "
   ]
  },
  {
   "cell_type": "markdown",
   "id": "cdb22465-b9af-48f5-9a4e-28bd17a19184",
   "metadata": {},
   "source": [
    "## Author\n",
    "Javier Mauricio Correa Walteros"
   ]
  },
  {
   "cell_type": "code",
   "execution_count": null,
   "id": "d1c309be-0138-429f-927d-7ad3f2eb37f9",
   "metadata": {},
   "outputs": [],
   "source": []
  }
 ],
 "metadata": {
  "kernelspec": {
   "display_name": "Python 3 (ipykernel)",
   "language": "python",
   "name": "python3"
  },
  "language_info": {
   "codemirror_mode": {
    "name": "ipython",
    "version": 3
   },
   "file_extension": ".py",
   "mimetype": "text/x-python",
   "name": "python",
   "nbconvert_exporter": "python",
   "pygments_lexer": "ipython3",
   "version": "3.12.8"
  }
 },
 "nbformat": 4,
 "nbformat_minor": 5
}
