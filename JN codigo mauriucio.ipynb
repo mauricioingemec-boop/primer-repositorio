{
 "cells": [
  {
   "cell_type": "code",
   "execution_count": 1,
   "id": "9fbff0ec-3589-4a2a-b4a3-3423b1bbbb28",
   "metadata": {},
   "outputs": [],
   "source": [
    "x=45\n",
    "y=56\n",
    "z=x*y"
   ]
  },
  {
   "cell_type": "code",
   "execution_count": 2,
   "id": "e17fac03-0844-4b3d-956e-d6803608b992",
   "metadata": {},
   "outputs": [
    {
     "name": "stdout",
     "output_type": "stream",
     "text": [
      "2520\n"
     ]
    }
   ],
   "source": [
    "print (z)\n"
   ]
  }
 ],
 "metadata": {
  "kernelspec": {
   "display_name": "Python 3 (ipykernel)",
   "language": "python",
   "name": "python3"
  },
  "language_info": {
   "codemirror_mode": {
    "name": "ipython",
    "version": 3
   },
   "file_extension": ".py",
   "mimetype": "text/x-python",
   "name": "python",
   "nbconvert_exporter": "python",
   "pygments_lexer": "ipython3",
   "version": "3.12.8"
  }
 },
 "nbformat": 4,
 "nbformat_minor": 5
}
